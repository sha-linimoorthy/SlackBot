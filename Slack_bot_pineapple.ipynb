{
  "cells": [
    {
      "cell_type": "markdown",
      "metadata": {
        "id": "view-in-github",
        "colab_type": "text"
      },
      "source": [
        "<a href=\"https://colab.research.google.com/github/sha-linimoorthy/SlackBot/blob/main/Slack_bot_pineapple.ipynb\" target=\"_parent\"><img src=\"https://colab.research.google.com/assets/colab-badge.svg\" alt=\"Open In Colab\"/></a>"
      ]
    },
    {
      "cell_type": "code",
      "execution_count": null,
      "metadata": {
        "id": "VysS0a3cO8o2"
      },
      "outputs": [],
      "source": [
        "!pip install logging\n",
        "!pip install slack_bolt\n",
        "!pip install pyjokes\n",
        "!pip install quote\n",
        "!pip install Random-Word"
      ]
    },
    {
      "cell_type": "code",
      "execution_count": null,
      "metadata": {
        "id": "RYj0n9oNBTKD"
      },
      "outputs": [],
      "source": [
        "#Importing modules\n",
        "from slack_bolt import App\n",
        "from slack_bolt.adapter.socket_mode import SocketModeHandler\n",
        "import pyjokes\n",
        "import logging\n",
        "import re\n",
        "from random_word import RandomWords\n",
        "from quote import quote\n",
        "import random\n",
        "import string\n",
        "import os\n",
        " "
      ]
    },
    {
      "cell_type": "code",
      "execution_count": null,
      "metadata": {
        "id": "DUGeTXxQO9oA"
      },
      "outputs": [],
      "source": [
        "\n",
        "#tokens\n",
        "SLACK_BOT_TOKEN='xoxb.......................'\n",
        "SLACK_SOCKET_TOKEN='xapp.....................'\n",
        "\n",
        "#initiate app\n",
        "app=App(os.environ(token=SLACK_BOT_TOKEN,name=\"pineapple\"))\n",
        "logger=logging.getLogger(__name__)\n"
      ]
    },
    {
      "cell_type": "code",
      "execution_count": null,
      "metadata": {
        "id": "I3252S5hC2Z4"
      },
      "outputs": [],
      "source": [
        "\n",
        "#password generator bot\n",
        "\n",
        "@app.message(re.compile(\"\\w+' '.join+password|password\"))\n",
        "def say_hello_regex(say):\n",
        "  length=10\n",
        "\n",
        "  lower = string.ascii_lowercase\n",
        "  upper = string.ascii_uppercase\n",
        "  num = string.digits\n",
        "  symbols = string.punctuation\n",
        "\n",
        "  all = lower + upper + num + symbols\n",
        "  temp = random.sample(all,length)\n",
        "  password = \"\".join(temp)\n",
        "\n",
        "  all = string.ascii_letters + string.digits + string.punctuation\n",
        "  password = ''.join(random.sample(all,length))\n",
        "  say(f\"{password}\")\n",
        "\n"
      ]
    },
    {
      "cell_type": "code",
      "execution_count": null,
      "metadata": {
        "id": "fSDe-1x-IeMB"
      },
      "outputs": [],
      "source": [
        "\n",
        "#joke bot\n",
        "\n",
        "@app.message(re.compile(\"\\w+joke$|joke|\\w+joke\")) \n",
        "def show_random_joke(message, say):\n",
        "   \n",
        "    channel_type = message[\"channel_type\"]\n",
        "    if channel_type != \"im\":\n",
        "        return\n",
        "\n",
        "    dm_channel = message[\"channel\"]\n",
        "    user_id = message[\"user\"]\n",
        "\n",
        "    joke = pyjokes.get_joke()\n",
        "    logger.info(f\"Sent joke < {joke} > to user {user_id}\")\n",
        "\n",
        "    say(text=joke, channel=dm_channel)"
      ]
    },
    {
      "cell_type": "code",
      "source": [
        "\n",
        "#fun talk bot\n",
        "\n",
        "@app.message(\"knock knock\")\n",
        "def ask_who(message, say):\n",
        "    say(\"_Who's there?_\")\n",
        "\n",
        "@app.message(\"say apple\")\n",
        "def ask_who(message, say):\n",
        "    say(\"_apple_\")\n",
        "\n",
        "@app.message(\"pineapple\")\n",
        "def ask_who(message, say):\n",
        "    say(\"_That's me,What should i do?_\")"
      ],
      "metadata": {
        "id": "ouql8G1ZBEkL"
      },
      "execution_count": null,
      "outputs": []
    },
    {
      "cell_type": "code",
      "execution_count": null,
      "metadata": {
        "id": "FPC54kTIIt0o"
      },
      "outputs": [],
      "source": [
        "#quote bot\n",
        "@app.message(re.compile(\"\\w+quote$|quote\"))\n",
        "\n",
        "def say_hello_regex(say):\n",
        "    w=RandomWords()\n",
        "    get_word=w.get_random_word()\n",
        "    result=quote(get_word,limit=1)\n",
        "    say(f\"Depends on your LUCK\\n{result}\")\n"
      ]
    },
    {
      "cell_type": "code",
      "execution_count": null,
      "metadata": {
        "id": "84btfEp9C4RX"
      },
      "outputs": [],
      "source": [
        "\n",
        "def main():\n",
        "  Handler=SocketModeHandler(app,SLACK_SOCKET_TOKEN)\n",
        "  Handler.start()\n",
        "\n",
        "if __name__==\"__main__\":\n",
        "  main()\n"
      ]
    }
  ],
  "metadata": {
    "colab": {
      "provenance": [],
      "authorship_tag": "ABX9TyPc6BykkGBmwMD5NajRZkEI",
      "include_colab_link": true
    },
    "kernelspec": {
      "display_name": "Python 3",
      "name": "python3"
    },
    "language_info": {
      "name": "python"
    }
  },
  "nbformat": 4,
  "nbformat_minor": 0
}